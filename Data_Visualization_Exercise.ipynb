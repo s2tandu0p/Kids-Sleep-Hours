{
  "nbformat": 4,
  "nbformat_minor": 0,
  "metadata": {
    "colab": {
      "name": "Data Visualization Exercise.ipynb",
      "provenance": [],
      "collapsed_sections": [],
      "authorship_tag": "ABX9TyPD8FPqgjJYKgBTMo8MiIG9",
      "include_colab_link": true
    },
    "kernelspec": {
      "name": "python3",
      "display_name": "Python 3"
    },
    "language_info": {
      "name": "python"
    }
  },
  "cells": [
    {
      "cell_type": "markdown",
      "metadata": {
        "id": "view-in-github",
        "colab_type": "text"
      },
      "source": [
        "<a href=\"https://colab.research.google.com/github/s2tandu0p/Kids-Sleep-Hours/blob/main/Data_Visualization_Exercise.ipynb\" target=\"_parent\"><img src=\"https://colab.research.google.com/assets/colab-badge.svg\" alt=\"Open In Colab\"/></a>"
      ]
    },
    {
      "cell_type": "code",
      "metadata": {
        "colab": {
          "base_uri": "https://localhost:8080/"
        },
        "id": "zchdtjVIQM56",
        "outputId": "11f052a7-a7a7-4473-d45d-9e3b1c336e83"
      },
      "source": [
        "from google.colab import drive\n",
        "drive.mount('/content/drive')"
      ],
      "execution_count": 1,
      "outputs": [
        {
          "output_type": "stream",
          "name": "stdout",
          "text": [
            "Mounted at /content/drive\n"
          ]
        }
      ]
    },
    {
      "cell_type": "code",
      "metadata": {
        "id": "_TR5vJSrQa8K"
      },
      "source": [
        "import matplotlib.pyplot as plt\n",
        "import pandas as pd\n",
        "import numpy as np\n"
      ],
      "execution_count": 2,
      "outputs": []
    },
    {
      "cell_type": "code",
      "metadata": {
        "colab": {
          "base_uri": "https://localhost:8080/",
          "height": 204
        },
        "id": "hK-PSZh-Qnft",
        "outputId": "dc6869a8-c798-4e6f-914b-e82fa6cd0493"
      },
      "source": [
        "df = pd.read_excel('/content/drive/MyDrive/Personal/Dojo Data/data/Week9MM.xlsx')\n",
        "df.head()"
      ],
      "execution_count": 3,
      "outputs": [
        {
          "output_type": "execute_result",
          "data": {
            "text/html": [
              "<div>\n",
              "<style scoped>\n",
              "    .dataframe tbody tr th:only-of-type {\n",
              "        vertical-align: middle;\n",
              "    }\n",
              "\n",
              "    .dataframe tbody tr th {\n",
              "        vertical-align: top;\n",
              "    }\n",
              "\n",
              "    .dataframe thead th {\n",
              "        text-align: right;\n",
              "    }\n",
              "</style>\n",
              "<table border=\"1\" class=\"dataframe\">\n",
              "  <thead>\n",
              "    <tr style=\"text-align: right;\">\n",
              "      <th></th>\n",
              "      <th>Grade</th>\n",
              "      <th>Hours Needed</th>\n",
              "      <th>Hours Averaged</th>\n",
              "    </tr>\n",
              "  </thead>\n",
              "  <tbody>\n",
              "    <tr>\n",
              "      <th>0</th>\n",
              "      <td>Kindergarten</td>\n",
              "      <td>9.5</td>\n",
              "      <td>8.5</td>\n",
              "    </tr>\n",
              "    <tr>\n",
              "      <th>1</th>\n",
              "      <td>First grade</td>\n",
              "      <td>9.1</td>\n",
              "      <td>8.4</td>\n",
              "    </tr>\n",
              "    <tr>\n",
              "      <th>2</th>\n",
              "      <td>Second grade</td>\n",
              "      <td>9.3</td>\n",
              "      <td>8.3</td>\n",
              "    </tr>\n",
              "    <tr>\n",
              "      <th>3</th>\n",
              "      <td>Third grade</td>\n",
              "      <td>8.6</td>\n",
              "      <td>8.1</td>\n",
              "    </tr>\n",
              "    <tr>\n",
              "      <th>4</th>\n",
              "      <td>Fourth grade</td>\n",
              "      <td>8.9</td>\n",
              "      <td>7.9</td>\n",
              "    </tr>\n",
              "  </tbody>\n",
              "</table>\n",
              "</div>"
            ],
            "text/plain": [
              "          Grade  Hours Needed  Hours Averaged\n",
              "0  Kindergarten           9.5             8.5\n",
              "1   First grade           9.1             8.4\n",
              "2  Second grade           9.3             8.3\n",
              "3   Third grade           8.6             8.1\n",
              "4  Fourth grade           8.9             7.9"
            ]
          },
          "metadata": {},
          "execution_count": 3
        }
      ]
    },
    {
      "cell_type": "code",
      "metadata": {
        "colab": {
          "base_uri": "https://localhost:8080/"
        },
        "id": "vvWDugBGQxx9",
        "outputId": "b3a03734-f9f0-4c7a-fd48-d0ff4db75080"
      },
      "source": [
        "grade = df['Grade'].values\n",
        "hours_needed = df['Hours Needed'].values\n",
        "hours_average = df['Hours Averaged'].values\n",
        "\n",
        "type(grade)"
      ],
      "execution_count": 5,
      "outputs": [
        {
          "output_type": "execute_result",
          "data": {
            "text/plain": [
              "numpy.ndarray"
            ]
          },
          "metadata": {},
          "execution_count": 5
        }
      ]
    },
    {
      "cell_type": "code",
      "metadata": {
        "colab": {
          "base_uri": "https://localhost:8080/",
          "height": 361
        },
        "id": "CDFuu3R4RQfs",
        "outputId": "f18b0f26-02c8-4bb5-9331-fe2edbf7a30a"
      },
      "source": [
        "plt.plot(grade, hours_needed, c='r', label = 'Hours Needed');\n",
        "plt.scatter(grade, hours_average, c='k', label = 'Hours Averaged');\n",
        "plt.legend();\n",
        "plt.xticks(rotation = 90);\n",
        "plt.xlabel('Grade');\n",
        "plt.ylabel('Sleep Hours');\n",
        "plt.title('Kids Sleep Hours', fontsize = 16);\n",
        "plt.grid(axis = 'y', c='k', linestyle = '--', alpha = 0.9);\n",
        "plt.grid(axis = 'x', c='k', linestyle = '-', alpha = 0.3);"
      ],
      "execution_count": 16,
      "outputs": [
        {
          "output_type": "display_data",
          "data": {
            "image/png": "[encoded data removed]",
            "text/plain": [
              "<Figure size 432x288 with 1 Axes>"
            ]
          },
          "metadata": {
            "needs_background": "light"
          }
        }
      ]
    }
  ]
}